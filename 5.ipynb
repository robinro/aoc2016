{
 "cells": [
  {
   "cell_type": "code",
   "execution_count": 2,
   "metadata": {
    "collapsed": true
   },
   "outputs": [],
   "source": [
    "import hashlib"
   ]
  },
  {
   "cell_type": "code",
   "execution_count": 10,
   "metadata": {
    "collapsed": false
   },
   "outputs": [
    {
     "name": "stdout",
     "output_type": "stream",
     "text": [
      "1\n",
      "a\n",
      "3\n",
      "0\n",
      "9\n",
      "9\n",
      "a\n",
      "a\n"
     ]
    }
   ],
   "source": [
    "counter = 0\n",
    "num = 1\n",
    "while counter < 8:\n",
    "    m = hashlib.md5()\n",
    "    m.update(b\"uqwqemis\"+str(num).encode())\n",
    "    out = m.hexdigest()\n",
    "    if out.startswith(\"00000\"):\n",
    "        counter += 1\n",
    "        print(out[5])\n",
    "    num += 1"
   ]
  },
  {
   "cell_type": "code",
   "execution_count": 21,
   "metadata": {
    "collapsed": false
   },
   "outputs": [
    {
     "name": "stdout",
     "output_type": "stream",
     "text": [
      "1 9\n",
      "3 1\n",
      "0 6\n",
      "2 4\n",
      "5 0\n",
      "4 9\n",
      "6 c\n",
      "7 d\n"
     ]
    },
    {
     "data": {
      "text/plain": [
       "'694190cd'"
      ]
     },
     "execution_count": 21,
     "metadata": {},
     "output_type": "execute_result"
    }
   ],
   "source": [
    "counter = 0\n",
    "num = 1\n",
    "result = ['X']*8\n",
    "while 'X' in result:\n",
    "    m = hashlib.md5()\n",
    "    m.update(b\"uqwqemis\"+str(num).encode())\n",
    "    out = m.hexdigest()\n",
    "    if out.startswith(\"00000\") and '0' <= out[5] <= '7' and result[int(out[5])] == 'X':\n",
    "        print(out[5], out[6])\n",
    "        result[int(out[5])] = out[6]\n",
    "    num += 1\n",
    "''.join(result)"
   ]
  },
  {
   "cell_type": "code",
   "execution_count": null,
   "metadata": {
    "collapsed": true
   },
   "outputs": [],
   "source": []
  }
 ],
 "metadata": {
  "kernelspec": {
   "display_name": "Python 3",
   "language": "python",
   "name": "python3"
  },
  "language_info": {
   "codemirror_mode": {
    "name": "ipython",
    "version": 3
   },
   "file_extension": ".py",
   "mimetype": "text/x-python",
   "name": "python",
   "nbconvert_exporter": "python",
   "pygments_lexer": "ipython3",
   "version": "3.5.2+"
  }
 },
 "nbformat": 4,
 "nbformat_minor": 1
}
